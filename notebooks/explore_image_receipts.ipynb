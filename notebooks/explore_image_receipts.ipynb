{
 "cells": [
  {
   "cell_type": "code",
   "execution_count": 1,
   "id": "b142beeb",
   "metadata": {},
   "outputs": [],
   "source": [
    "import pdfplumber\n",
    "import pytesseract\n",
    "import cv2\n",
    "from PIL import Image\n",
    "import numpy as np"
   ]
  },
  {
   "cell_type": "markdown",
   "id": "819b25f1",
   "metadata": {},
   "source": [
    "## Paths"
   ]
  },
  {
   "cell_type": "code",
   "execution_count": 2,
   "id": "d401a68d",
   "metadata": {},
   "outputs": [],
   "source": [
    "from pathlib import Path\n",
    "\n",
    "image_path = Path(\"../testfiles\")\n",
    "\n",
    "#image_file = image_path / \"Tom_Thumb_test_receipt.jpg\""
   ]
  },
  {
   "cell_type": "markdown",
   "id": "f86ec51f",
   "metadata": {},
   "source": [
    "## Helper Functions"
   ]
  },
  {
   "cell_type": "code",
   "execution_count": 3,
   "id": "5c7c51db",
   "metadata": {},
   "outputs": [],
   "source": [
    "def is_scanned_pdf(pdf_path):\n",
    "    \"\"\" Does not\n",
    "\n",
    "    :param pdf_path: _description_\n",
    "    :type pdf_path: _type_\n",
    "    :return: _description_\n",
    "    :rtype: _type_\n",
    "    \"\"\"\n",
    "    with pdfplumber.open(pdf_path) as pdf:\n",
    "        first_page = pdf.pages[0]\n",
    "        if first_page.extract_text() is None:\n",
    "            return True\n",
    "        return False\n",
    "    \n",
    "def extract_text_from_pdf(pdf_path):\n",
    "    \"\"\" Imported from original code\n",
    "    \n",
    "    Not Used yet\n",
    "\n",
    "    :param pdf_path: _description_\n",
    "    :type pdf_path: _type_\n",
    "    :return: _description_\n",
    "    :rtype: _type_\n",
    "    \"\"\"\n",
    "    text = \"\"\n",
    "    with pdfplumber.open(pdf_path) as pdf:\n",
    "        for page in pdf.pages:\n",
    "            image = page.to_image()\n",
    "            page_text = pytesseract.image_to_string(image.original)\n",
    "            text += page_text\n",
    "    return text\n",
    "\n",
    "def preprocess_image(image_path):\n",
    "    \"\"\"Preprocess the image for better OCR results.\n",
    "\n",
    "    :param image_path: _description_\n",
    "    :type image_path: _type_\n",
    "    :return: _description_\n",
    "    :rtype: _type_\n",
    "    \"\"\"\n",
    "    image = cv2.imread(image_path)\n",
    "    gray = cv2.cvtColor(image, cv2.COLOR_BGR2GRAY)\n",
    "    #gray.show()\n",
    "    ##_, binary = cv2.threshold(image, 127, 255, cv2.THRESH_BINARY)\n",
    "    # Deskewing can be added here with more complex algorithms\n",
    "    \n",
    "    # Dilation makes text bolder\n",
    "    kernel = np.ones((2, 2), np.uint8)\n",
    "    dilated = cv2.dilate(gray, kernel, iterations=1)    \n",
    "    return gray"
   ]
  },
  {
   "cell_type": "markdown",
   "id": "95c22474",
   "metadata": {},
   "source": [
    "# Load the image and process \n",
    "\n",
    "Preprocess and load into a *large* text area\n",
    "\n",
    "1. Create the list of test files\n",
    "2. Loop through the list\n",
    "3. Load the images and preprocess them\n",
    "4. Create the sentences list\n",
    "5. Seach the sentances"
   ]
  },
  {
   "cell_type": "code",
   "execution_count": 4,
   "id": "d2e3eddb",
   "metadata": {},
   "outputs": [],
   "source": [
    "test_files = [\n",
    "    \"Market_Street_test_receipt.jpg\",\n",
    "    \"Tom_Thumb_test_receipt.jpg\",\n",
    "    \"Trek_Allen_test Receipt.jpg\",\n",
    "    \"Walmart_test_receipt.png\"\n",
    "]"
   ]
  },
  {
   "cell_type": "code",
   "execution_count": null,
   "id": "8529e816",
   "metadata": {},
   "outputs": [],
   "source": []
  },
  {
   "cell_type": "code",
   "execution_count": 9,
   "id": "e5241da8",
   "metadata": {},
   "outputs": [
    {
     "name": "stdout",
     "output_type": "stream",
     "text": [
      "Loaded 586 characters from Market_Street_test_receipt.jpg\n",
      "['rl f', 'BOARS HEAD TURKE 6.66 F', '2UB TOLAL $6, 66', 'fOTAL 0.8', 'CASH $7.00', 'CHANGE $0.14', 'Tota! number of in ; » seld 2', 'HOW was your shop ing exper rience?', 'We Value Tali feedback!', 'oo the Gh code below far a 2 winute survey.', \"di ik you for _suop'ng at Market Street\", 'r help with you Rewards account ar', 'online shopp ing call 1-855- fie 15 a', 'Have a complatet, compliment, ¢', 'om cal -877-BAUNTTE', 'Oy visit waw.marketstreetunited.com', 'Cashier :0037 Nan gS ue Ca', 'wrsday, Auigu st 14, 2¢ O25 U3:38 PM', 'fore :563 POS:032 Transact ion:6123', 'ane 172) 906-3830', '385 W. Bethany Dr. Allen, TX 75013', 'request?']\n",
      "found 22 sentences in Market_Street_test_receipt.jpg\n",
      "no dates found\n",
      "======\n",
      "\n",
      "Loaded 837 characters from Tom_Thumb_test_receipt.jpg\n",
      "['Store 1788 Dir Arthur Sanchez', 'Main:€972) 527-0961 Rx:¢972) 527-0970', '7801 Alma Drive', 'PLANO TX', 'OS', '0017880520081 2508111332', 'GROCERY Price', '7084789185  HONSTER ULTRA 3.49', 'PRODUCE', '2113028450 SIG CRIMINI MSHRM 2.49', '64312604011 BANANAS GREEN 1.06', 'WT 1.79 Ib @ $0.59 /]b', '72243050048 GTS KOMBUCHA HYSTI 10.99', '7878390601  CHARD RAINBOW ORG 2.99', '88628900031 GRANNY SHTH APPLES 1.11', 'WI 0.56 Ib @ $1.99 /Ib', 'TAX', 'x¥e* BALANCE', 'Credit Purchase 08/11/25 13:32', 'CARD # ¥X¥¥XX¥¥xXEK3351', 'REF: 513245433510 AUTH: 00131582', 'PAYMENT AMOUNT 22.42', 'AL MASTERCARD', 'AID A0000000N41010', 'TVR 0000008001', 'Mastercard 22.42', 'CHANGE 0.00', 'YOUR POINTS', 'Points Earned Taday 22', 'Points Available 22', 'TOTAL NUMBER OF ITEMS SOLD = 6', '08/11/25 13:32 1788 52 81 8862', 'Thank you for shopping Tom Thumb!', 'For TOMTHUMB FOR U questions call', '877-276-9637 or Tomthumb.com/foru', '¥% #%']\n",
      "found 36 sentences in Tom_Thumb_test_receipt.jpg\n",
      "3\n",
      "Found date(s) in sentence: Credit Purchase 08/11/25 13:32 | Matches: ['08/11/25 13:32']\n",
      "Found date(s) in Tom_Thumb_test_receipt.jpg: [datetime.datetime(2025, 8, 11, 13, 32)]\n",
      "======\n",
      "\n",
      "Loaded 794 characters from Trek_Allen_test Receipt.jpg\n",
      "['Trek Bicycle Allen', '190 East Stacy Road #1704', 'Allen, TX 75002', '972-678-4044', 'wow. TrekBikes .com', 'Allen@trekbikes.com', 'Description ss. Each $ Qty Price §', 'LUB BNT CHNLUB DRI 12.99 -1~——«12.,99', 'TTEME 1047434', 'CAG BNT PRO CHAR 24.93 1 24.93', 'TTEM# 575333', '(You saved $40.06)', 'Subtotal: 37.92', 'Tax: 3.19', 'Total: 41.05', 'Credit Card (08/13/20251: 47.05', 'Card No: XXXXB023', 'Card Type: visastandardcredit', 'Authorization No: 047390', 'Retrieval No: DPS3MWZB4MD472R9', 'Amount Due: 0.00', 'Total Savings: 40,06', 'Type of Transaction: Sale', 'Customer: ED SKOVIAK', 'Customer Phone: 860-922-6879', 'Salesperson: Waad B. (HB13)', 'Date & Time: 08/13/2025 3:17 PM', 'Thank you for choosing Trek! We hope to', 'see you again soon,', 'We offer 30-day hassle-free returns,', 'lowest price guarantee, and 24-hour', 'service on all fakes and models.', 'A']\n",
      "found 33 sentences in Trek_Allen_test Receipt.jpg\n",
      "2\n",
      "Found date(s) in sentence: Date & Time: 08/13/2025 3:17 PM | Matches: ['08/13/2025 3:17 PM']\n",
      "Found date(s) in Trek_Allen_test Receipt.jpg: [datetime.datetime(2025, 8, 13, 15, 17)]\n",
      "======\n",
      "\n",
      "Loaded 368 characters from Walmart_test_receipt.png\n",
      "['Walmart > ><.', 'Save money. Live better.', 'WAL*MART', '9726490356 Mgr. MARY', 'ALLEN, TX', 'ST# 2918 OP# 9005 TE# 5 TR# 847', 'EQUATE ITCH 068113128064 H 3.97', 'CANDY 063748007575 F 6.58', 'SUBTOTAL 10.55', 'TAX 1 8.25 % 0.54', 'TAX 12 0 % 0.00', 'TOTAL 11.09', 'VISA CREDIT TEND 11.09', 'VISA *#** xeRK HERR 8023', 'CHANGE DUE 0.00', '# ITEMS SOLD 2', 'TC# 7022 0308 0448 5624 5026', '08/10/25 18:15:26']\n",
      "found 18 sentences in Walmart_test_receipt.png\n",
      "1\n",
      "Found date(s) in sentence: 08/10/25 18:15:26 | Matches: ['08/10/25 18:15:26']\n",
      "Found date(s) in Walmart_test_receipt.png: [datetime.datetime(2025, 8, 10, 18, 15, 26)]\n",
      "======\n",
      "\n"
     ]
    }
   ],
   "source": [
    "import re\n",
    "\n",
    "for file in test_files:\n",
    "    img = preprocess_image(image_path / file)\n",
    "    #cv2.imshow(\"Processed Image\", img)\n",
    "    #cv2.waitKey(0)\n",
    "    #cv2.destroyAllWindows()\n",
    "    #continue\n",
    "    \n",
    "    # Perform OCR using pytesseract\n",
    "    text = pytesseract.image_to_string(img)\n",
    "\n",
    "    # Print the size of the extracted text buffer\n",
    "    print(f\"Loaded {len(text)} characters from {file}\")\n",
    "\n",
    "    sentences = re.split(r'\\n+', text.strip())\n",
    "    print(sentences)\n",
    "    print(f\"found {len(sentences)} sentences in {file}\")\n",
    "    date = extract_dates(sentences)\n",
    "    if date:\n",
    "        print(f\"Found date(s) in {file}: {date}\")\n",
    "    print(f\"======\\n\")    "
   ]
  },
  {
   "cell_type": "code",
   "execution_count": null,
   "id": "0e5df924",
   "metadata": {},
   "outputs": [],
   "source": [
    "for s in sentences:\n",
    "    print(f\"Sentence: {s} | Length: {len(s)}\")"
   ]
  },
  {
   "cell_type": "markdown",
   "id": "af39233f",
   "metadata": {},
   "source": [
    "## Analyze the extracted text\n",
    "\n",
    "1. Look for a date and time"
   ]
  },
  {
   "cell_type": "code",
   "execution_count": 8,
   "id": "7553dd0e",
   "metadata": {},
   "outputs": [],
   "source": [
    "import datetime\n",
    "def extract_dates(sentences):\n",
    "    for s in sentences:\n",
    "        if matches := re.findall(r'\\d{1,2}[-/]\\d{1,2}[-/]\\d{2,4} \\d{2}:\\d{2}:\\d{2}', s):\n",
    "            print(\"1\")\n",
    "            format_string = '%m/%d/%y %H:%M:%S'\n",
    "            break\n",
    "        elif matches := re.findall(r'\\d{1,2}[-/]\\d{1,2}[-/]\\d{2,4} \\d{1,2}:\\d{2} [AP]M', s):\n",
    "            print(\"2\")\n",
    "            format_string = '%m/%d/%Y %I:%M %p'\n",
    "            break\n",
    "        elif matches := re.findall(r'\\d{1,2}[-/]\\d{1,2}[-/]\\d{2,4} \\d{1,2}:\\d{2}', s):\n",
    "            print(\"3\")\n",
    "            format_string = '%m/%d/%y %H:%M'\n",
    "            break\n",
    "        else:\n",
    "            continue\n",
    "        \n",
    "    if matches:\n",
    "        print(f\"Found date(s) in sentence: {s} | Matches: {matches}\")\n",
    "        try:\n",
    "            date = [datetime.datetime.strptime(date, format_string) for date in matches]\n",
    "            return date\n",
    "        except ValueError as e:\n",
    "            print(f\"Error parsing dates: {e}\")\n",
    "            return None\n",
    "        \n",
    "    else:\n",
    "        print(f\"no dates found\")\n",
    "        return None"
   ]
  },
  {
   "cell_type": "code",
   "execution_count": null,
   "id": "33a6e987",
   "metadata": {},
   "outputs": [
    {
     "name": "stdout",
     "output_type": "stream",
     "text": [
      "['S', 'a']\n"
     ]
    }
   ],
   "source": [
    "import re\n",
    "    \n",
    "s = 'Sam'\n",
    "matches = re.findall(r'\\b(Monday|Tuesday|Wednesday|Thursday|Friday|Saturday|Sunday)\\b', s)\n",
    "print(matches)"
   ]
  }
 ],
 "metadata": {
  "kernelspec": {
   "display_name": "vpython3.13 (3.13.5)",
   "language": "python",
   "name": "python3"
  },
  "language_info": {
   "codemirror_mode": {
    "name": "ipython",
    "version": 3
   },
   "file_extension": ".py",
   "mimetype": "text/x-python",
   "name": "python",
   "nbconvert_exporter": "python",
   "pygments_lexer": "ipython3",
   "version": "3.13.5"
  }
 },
 "nbformat": 4,
 "nbformat_minor": 5
}
