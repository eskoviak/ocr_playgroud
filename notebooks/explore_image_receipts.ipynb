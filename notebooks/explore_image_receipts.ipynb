{
 "cells": [
  {
   "cell_type": "code",
   "execution_count": 45,
   "id": "b142beeb",
   "metadata": {},
   "outputs": [],
   "source": [
    "import pdfplumber\n",
    "import pytesseract\n",
    "import cv2\n",
    "from PIL import Image\n",
    "import numpy as np"
   ]
  },
  {
   "cell_type": "markdown",
   "id": "819b25f1",
   "metadata": {},
   "source": [
    "## Paths"
   ]
  },
  {
   "cell_type": "code",
   "execution_count": 46,
   "id": "d401a68d",
   "metadata": {},
   "outputs": [],
   "source": [
    "from pathlib import Path\n",
    "\n",
    "image_path = Path(\"../testfiles\")\n",
    "\n",
    "#image_file = image_path / \"Tom_Thumb_test_receipt.jpg\""
   ]
  },
  {
   "cell_type": "markdown",
   "id": "f86ec51f",
   "metadata": {},
   "source": [
    "## Helper Functions"
   ]
  },
  {
   "cell_type": "code",
   "execution_count": 47,
   "id": "5c7c51db",
   "metadata": {},
   "outputs": [],
   "source": [
    "def is_scanned_pdf(pdf_path):\n",
    "    \"\"\" Does not\n",
    "\n",
    "    :param pdf_path: _description_\n",
    "    :type pdf_path: _type_\n",
    "    :return: _description_\n",
    "    :rtype: _type_\n",
    "    \"\"\"\n",
    "    with pdfplumber.open(pdf_path) as pdf:\n",
    "        first_page = pdf.pages[0]\n",
    "        if first_page.extract_text() is None:\n",
    "            return True\n",
    "        return False\n",
    "    \n",
    "def extract_text_from_pdf(pdf_path):\n",
    "    \"\"\" Imported from original code\n",
    "    \n",
    "    Not Used yet\n",
    "\n",
    "    :param pdf_path: _description_\n",
    "    :type pdf_path: _type_\n",
    "    :return: _description_\n",
    "    :rtype: _type_\n",
    "    \"\"\"\n",
    "    text = \"\"\n",
    "    with pdfplumber.open(pdf_path) as pdf:\n",
    "        for page in pdf.pages:\n",
    "            image = page.to_image()\n",
    "            page_text = pytesseract.image_to_string(image.original)\n",
    "            text += page_text\n",
    "    return text\n",
    "\n",
    "def preprocess_image(image_path):\n",
    "    \"\"\"Preprocess the image for better OCR results.\n",
    "\n",
    "    :param image_path: _description_\n",
    "    :type image_path: _type_\n",
    "    :return: _description_\n",
    "    :rtype: _type_\n",
    "    \"\"\"\n",
    "    image = cv2.imread(image_path)\n",
    "    gray = cv2.cvtColor(image, cv2.COLOR_BGR2GRAY)\n",
    "    #gray.show()\n",
    "    ##_, binary = cv2.threshold(image, 127, 255, cv2.THRESH_BINARY)\n",
    "    # Deskewing can be added here with more complex algorithms\n",
    "    \n",
    "    # Dilation makes text bolder\n",
    "    kernel = np.ones((2, 2), np.uint8)\n",
    "    dilated = cv2.dilate(gray, kernel, iterations=1)    \n",
    "    return gray"
   ]
  },
  {
   "cell_type": "markdown",
   "id": "95c22474",
   "metadata": {},
   "source": [
    "# Load the image and process \n",
    "\n",
    "Preprocess and load into a *large* text area\n",
    "\n",
    "1. Create the list of test files\n",
    "2. Loop through the list\n",
    "3. Load the images and preprocess them\n",
    "4. Create the sentences list\n",
    "5. Seach the sentances"
   ]
  },
  {
   "cell_type": "code",
   "execution_count": 48,
   "id": "d2e3eddb",
   "metadata": {},
   "outputs": [],
   "source": [
    "test_files = [\n",
    "    #\"Market_Street_test_receipt.jpg\",\n",
    "    #\"Tom_Thumb_test_receipt.jpg\",\n",
    "    #\"Trek_Allen_test Receipt.jpg\",\n",
    "    #\"Walmart_test_receipt.png\",\n",
    "    \"HEB_test_receipt.jpg\",\n",
    "    \"Target_test_receipt.jpg\"\n",
    "]"
   ]
  },
  {
   "cell_type": "code",
   "execution_count": 54,
   "id": "e5241da8",
   "metadata": {},
   "outputs": [
    {
     "name": "stdout",
     "output_type": "stream",
     "text": [
      "Loaded 934 characters from HEB_test_receipt.jpg\n",
      "['| ILLY DARK ROAST WHL BEAN F 13.64', '2 NAVITAS O MACA POWDER oF 13,39 Q', '3 BULK BEETS', '1.40 Lbs @ 1/ 1,68 FW 2.35', '4 JUMBO YELLOW ONION', '0,83 Lbs @ 1/1412 FH 0,98', '5 BULK SWEET POTATOES', '0.77 lbs @ 1/ 1.24 FH 0.95', '6 ALIVE ONCE DAILY ULTRA 15.28 @', '7 BV PITTED MEDJOOL DATES FW 5,98', '8 AUSTINUTS RAW TREE MIX F 15,26', '9 MIXED HABANERO PEPPERS FW 3.46', '10 HUMAN N SUPERBEET HEART C 39.98', '11 ORGANIC BANANAS', '2.47 los @ 1/  O./4 FH 1.83', '_keeeeeepperes® Total Sales 113.09.', 'MASTERCARD', 'FEREEKEKERER GIS |', 'Contactless Chip USD$ 113,09', 'Appr No : 659522 Ref No : 671592', 'Mode: Issuer Verified By Pin', 'MASTERCD', 'AID : A0000000041010', 'TVR + 0000008001', 'TAD + 0114A14003020000000700000000000000FF', 'TSI ARC + 00', 'Returns can be done at any checkstand', 'HEB Food-Drugs 796', '575 E Exchange Pkwy, Allen, TX 75002', 'Phone: (469) 656-9401', 'Pharmacy (214) 509-9043', 'Store Hours: 6 A.M, to 11 P.M', 'Your Cashier:SELF CHECKOUT 654', '272672 08-17-25 3:09P 654/31/0079']\n",
      "found 34 sentences in HEB_test_receipt.jpg\n",
      "3\n",
      "Found date(s) in sentence: 272672 08-17-25 3:09P 654/31/0079 | Matches: ['08-17-25 3:09P']\n",
      "Error parsing dates: time data '08-17-25 3:09P' does not match format '%m/%d/%y %I:%M%p'\n",
      "1\n",
      "Found amount(s) in sentence: _keeeeeepperes® Total Sales 113.09. | Matches: [('Total', '113.09')]\n",
      "Found amount(s) in HEB_test_receipt.jpg: 113.09\n",
      "======\n",
      "\n",
      "Loaded 688 characters from Target_test_receipt.jpg\n",
      "['Allen - 972-396-9486', '907 W McDermott Dr', 'Allen, Texas 75013-6503', '08/17/2025 06:21 PM', 'ULL)', 'GROCERY _', '288077115 PROTEIN NF $6.99', 'SUBTOTAL $6.99', 'NO TAX $0.00', 'TOTAL $6.99', 'CASH PAYMENT $20.00', 'CHANGE DUE $13.01', 'WHEN YOU RETURN ANY ITEM, YOUR', 'RETURN CREDIT WILL NOT INCLUDE ANY', 'PROMOTIONAL DISCOUNT OR COUPON', 'APPLIED TO THE ORIGINAL ORDER.', 'er ee ee Ce i', 'REC#H2~ 0229- ~1231- 0163- a942- f', 'Seek HN mie LE elite a cH FANE weno EDK ER re cube aw ORR Joe aad SHA Lag au Rtas Be BH Bake see aia', 'Help make your Target Run better.', \"Take a 2 minute survey about today's trip\", 'informtarget.com', 'User ID: 7477 0876 9983', 'Password: 670 573', 'CUENTENOS EN ESPANOL', 'Please take this survey within 7 days']\n",
      "found 26 sentences in Target_test_receipt.jpg\n",
      "2\n",
      "Found date(s) in sentence: 08/17/2025 06:21 PM | Matches: ['08/17/2025 06:21 PM']\n",
      "Found date(s) in Target_test_receipt.jpg: [datetime.datetime(2025, 8, 17, 18, 21)]\n",
      "1\n",
      "Found amount(s) in sentence: TOTAL $6.99 | Matches: [('TOTAL', '6.99')]\n",
      "Found amount(s) in Target_test_receipt.jpg: 6.99\n",
      "======\n",
      "\n"
     ]
    }
   ],
   "source": [
    "import re\n",
    "\n",
    "for file in test_files:\n",
    "    img = preprocess_image(image_path / file)\n",
    "    #cv2.imshow(\"Processed Image\", img)\n",
    "    #cv2.waitKey(0)\n",
    "    #cv2.destroyAllWindows()\n",
    "    #continue\n",
    "    \n",
    "    # Perform OCR using pytesseract\n",
    "    text = pytesseract.image_to_string(img)\n",
    "\n",
    "    # Print the size of the extracted text buffer\n",
    "    print(f\"Loaded {len(text)} characters from {file}\")\n",
    "\n",
    "    sentences = re.split(r'\\n+', text.strip())\n",
    "    print(sentences)\n",
    "    print(f\"found {len(sentences)} sentences in {file}\")\n",
    "    date = extract_dates(sentences)\n",
    "    if date:\n",
    "        print(f\"Found date(s) in {file}: {date}\")\n",
    "    amount = extract_amounts(sentences)\n",
    "    if amount:\n",
    "        print(f\"Found amount(s) in {file}: {amount}\")\n",
    "    print(f\"======\\n\")    "
   ]
  },
  {
   "cell_type": "code",
   "execution_count": null,
   "id": "0e5df924",
   "metadata": {},
   "outputs": [],
   "source": [
    "for s in sentences:\n",
    "    print(f\"Sentence: {s} | Length: {len(s)}\")"
   ]
  },
  {
   "cell_type": "markdown",
   "id": "af39233f",
   "metadata": {},
   "source": [
    "## Analyze the extracted text\n",
    "\n",
    "1. Look for a date and time"
   ]
  },
  {
   "cell_type": "markdown",
   "id": "d20b6a2b",
   "metadata": {},
   "source": [
    "### Libary of functions to extract data\n",
    "\n",
    "One function per data item"
   ]
  },
  {
   "cell_type": "code",
   "execution_count": 55,
   "id": "7553dd0e",
   "metadata": {},
   "outputs": [],
   "source": [
    "import datetime\n",
    "def extract_dates(sentences):\n",
    "    \"\"\"Extract dates from a list of sentences.\n",
    "\n",
    "    Attempts to find and parse dates in various formats.\n",
    "\n",
    "    :param sentences: Sentences from the reciept\n",
    "    :type sentences: List[str]\n",
    "    :return: date\n",
    "    :rtype: datetime.date\n",
    "    \"\"\"\n",
    "    for s in sentences:\n",
    "        if matches := re.findall(r'\\d{1,2}[-/]\\d{1,2}[-/]\\d{2,4} \\d{2}:\\d{2}:\\d{2}', s):\n",
    "            print(\"1\")\n",
    "            format_string = '%m/%d/%y %H:%M:%S'\n",
    "            break\n",
    "        elif matches := re.findall(r'\\d{1,2}[-/]\\d{1,2}[-/]\\d{2,4} \\d{1,2}:\\d{2} [AP]M?', s):\n",
    "            print(\"2\")\n",
    "            format_string = '%m/%d/%Y %I:%M %p'\n",
    "            break\n",
    "        elif matches := re.findall(r'\\d{1,2}[-/]\\d{1,2}[-/]\\d{2,4} \\d{1}:\\d{2}[AP]', s):\n",
    "            # Very specific format \n",
    "            print(\"3\")\n",
    "            format_string = '%m/%d/%y %I:%M %p'\n",
    "            break\n",
    "        elif matches := re.findall(r'\\d{1,2}[-/]\\d{1,2}[-/]\\d{2,4} \\d{1,2}:\\d{2}', s):\n",
    "            print(\"4\")\n",
    "            format_string = '%m/%d/%y %H:%M'\n",
    "            break\n",
    "        else:\n",
    "            continue\n",
    "        \n",
    "    if matches:\n",
    "        print(f\"Found date(s) in sentence: {s} | Matches: {matches}\")\n",
    "        try:\n",
    "            date = [datetime.datetime.strptime(date, format_string) for date in matches]\n",
    "            return date\n",
    "        except ValueError as e:\n",
    "            print(f\"Error parsing dates: {e}\")\n",
    "            return None\n",
    "        \n",
    "    else:\n",
    "        print(f\"no dates found\")\n",
    "        return None"
   ]
  },
  {
   "cell_type": "code",
   "execution_count": 44,
   "id": "00b56ec1",
   "metadata": {},
   "outputs": [],
   "source": [
    "def extract_amounts(sentences):\n",
    "    \"\"\" Extract the amount of the voucher from the list of sentences.\n",
    "\n",
    "    Attempts to find and parse amounts in various formats.\n",
    "\n",
    "    :param sentences: Sentences from the receipt\n",
    "    :type sentences: List[str]\n",
    "    :return: amount\n",
    "    :rtype: float   \n",
    "    \"\"\"\n",
    "    for s in sentences:\n",
    "        if matches := re.findall(r'\\b(Total|TOTAL|Total:|TOTAL:|Balance|BALANCE)\\b.*?(\\d+(?:,\\d{3})*(?:\\.\\d{2})?)', s):\n",
    "            print(\"1\")\n",
    "            break\n",
    "        #elif matches := re.findall(r'\\d+(?:,\\d{3})*(?:\\.\\d{2})? USD', s):\n",
    "        #    print(\"2\")\n",
    "        #    break\n",
    "        #elif matches := re.findall(r'\\d+(?:,\\d{3})*(?:\\.\\d{2})?', s):\n",
    "        #    print(\"3\")\n",
    "        #    break\n",
    "        else:\n",
    "            continue\n",
    "\n",
    "    if matches:\n",
    "        print(f\"Found amount(s) in sentence: {s} | Matches: {matches}\")\n",
    "        try:\n",
    "            voucher_amt = float(matches[0][1].replace('$', '').replace(',', ''))\n",
    "            #print(voucher_amt)\n",
    "            return voucher_amt\n",
    "        except ValueError as e:\n",
    "            print(f\"Error parsing amounts: {e}\")\n",
    "            return None\n",
    "\n",
    "    else:\n",
    "        print(f\"no amounts found\")\n",
    "        return None"
   ]
  },
  {
   "cell_type": "code",
   "execution_count": 18,
   "id": "33a6e987",
   "metadata": {},
   "outputs": [
    {
     "name": "stdout",
     "output_type": "stream",
     "text": [
      "['Thursday']\n"
     ]
    }
   ],
   "source": [
    "import re\n",
    "\n",
    "s = 'Thursday'\n",
    "matches = re.findall(r'\\b(Monday|Tuesday|Wednesday|Thursday|Friday|Saturday|Sunday)\\b', s)\n",
    "print(matches)"
   ]
  }
 ],
 "metadata": {
  "kernelspec": {
   "display_name": "vpython3.13 (3.13.5)",
   "language": "python",
   "name": "python3"
  },
  "language_info": {
   "codemirror_mode": {
    "name": "ipython",
    "version": 3
   },
   "file_extension": ".py",
   "mimetype": "text/x-python",
   "name": "python",
   "nbconvert_exporter": "python",
   "pygments_lexer": "ipython3",
   "version": "3.13.5"
  }
 },
 "nbformat": 4,
 "nbformat_minor": 5
}
