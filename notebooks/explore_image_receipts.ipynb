{
 "cells": [
  {
   "cell_type": "code",
   "execution_count": 3,
   "id": "b142beeb",
   "metadata": {},
   "outputs": [],
   "source": [
    "import pdfplumber\n",
    "import pytesseract\n",
    "import cv2\n",
    "from PIL import Image"
   ]
  },
  {
   "cell_type": "markdown",
   "id": "819b25f1",
   "metadata": {},
   "source": [
    "## Paths"
   ]
  },
  {
   "cell_type": "code",
   "execution_count": null,
   "id": "d401a68d",
   "metadata": {},
   "outputs": [],
   "source": [
    "from pathlib import Path\n",
    "\n",
    "image_path = Path(\"../testfiles\")\n",
    "\n",
    "#image_file = image_path / \"Trek_Allen_test Receipt.jpg\""
   ]
  },
  {
   "cell_type": "markdown",
   "id": "f86ec51f",
   "metadata": {},
   "source": [
    "## Helper Functions"
   ]
  },
  {
   "cell_type": "code",
   "execution_count": 9,
   "id": "5c7c51db",
   "metadata": {},
   "outputs": [],
   "source": [
    "def is_scanned_pdf(pdf_path):\n",
    "    \"\"\" Does not\n",
    "\n",
    "    :param pdf_path: _description_\n",
    "    :type pdf_path: _type_\n",
    "    :return: _description_\n",
    "    :rtype: _type_\n",
    "    \"\"\"\n",
    "    with pdfplumber.open(pdf_path) as pdf:\n",
    "        first_page = pdf.pages[0]\n",
    "        if first_page.extract_text() is None:\n",
    "            return True\n",
    "        return False\n",
    "    \n",
    "def extract_text_from_pdf(pdf_path):\n",
    "    \"\"\" Imported from original code\n",
    "    \n",
    "    Not Used yet\n",
    "\n",
    "    :param pdf_path: _description_\n",
    "    :type pdf_path: _type_\n",
    "    :return: _description_\n",
    "    :rtype: _type_\n",
    "    \"\"\"\n",
    "    text = \"\"\n",
    "    with pdfplumber.open(pdf_path) as pdf:\n",
    "        for page in pdf.pages:\n",
    "            image = page.to_image()\n",
    "            page_text = pytesseract.image_to_string(image.original)\n",
    "            text += page_text\n",
    "    return text\n",
    "\n",
    "def preprocess_image(image_path):\n",
    "    \"\"\"Preprocess the image for better OCR results.\n",
    "\n",
    "    :param image_path: _description_\n",
    "    :type image_path: _type_\n",
    "    :return: _description_\n",
    "    :rtype: _type_\n",
    "    \"\"\"\n",
    "    image = cv2.imread(image_path)\n",
    "    gray = cv2.cvtColor(image, cv2.COLOR_BGR2GRAY)\n",
    "    _, binary = cv2.threshold(gray, 127, 255, cv2.THRESH_BINARY)\n",
    "    # Deskewing can be added here with more complex algorithms\n",
    "    return binary"
   ]
  },
  {
   "cell_type": "markdown",
   "id": "95c22474",
   "metadata": {},
   "source": [
    "# Load the image and process \n",
    "\n",
    "Preprocess and load into a *large* text area"
   ]
  },
  {
   "cell_type": "code",
   "execution_count": 22,
   "id": "e5241da8",
   "metadata": {},
   "outputs": [
    {
     "name": "stdout",
     "output_type": "stream",
     "text": [
      "Loaded 368 characters\n"
     ]
    }
   ],
   "source": [
    "img = preprocess_image(image_path / 'Walmart_test_receipt.png')\n",
    "\n",
    "# Perform OCR using pytesseract\n",
    "text = pytesseract.image_to_string(img)\n",
    "\n",
    "# Print the size of the extracted text buffer\n",
    "print(f\"Loaded {len(text)} characters\")\n"
   ]
  },
  {
   "cell_type": "markdown",
   "id": "1e21cb09",
   "metadata": {},
   "source": [
    "### Break the text area into smaller chunks (*sentances*) based on `\\n`\n",
    "\n",
    "Use `re` library"
   ]
  },
  {
   "cell_type": "code",
   "execution_count": 23,
   "id": "58c4d108",
   "metadata": {},
   "outputs": [
    {
     "name": "stdout",
     "output_type": "stream",
     "text": [
      "found 18 sentences\n"
     ]
    }
   ],
   "source": [
    "import re\n",
    "\n",
    "sentences = re.split(r'\\n+', text.strip())\n",
    "print(f\"found {len(sentences)} sentences\")"
   ]
  },
  {
   "cell_type": "code",
   "execution_count": null,
   "id": "0e5df924",
   "metadata": {},
   "outputs": [],
   "source": [
    "for s in sentences:\n",
    "    print(f\"Sentence: {s} | Length: {len(s)}\")"
   ]
  },
  {
   "cell_type": "markdown",
   "id": "af39233f",
   "metadata": {},
   "source": [
    "## Analyze the extracted text\n",
    "\n",
    "1. Look for a date and time"
   ]
  },
  {
   "cell_type": "code",
   "execution_count": 27,
   "id": "7553dd0e",
   "metadata": {},
   "outputs": [
    {
     "name": "stdout",
     "output_type": "stream",
     "text": [
      "Found date(s) in sentence: 08/10/25 18:15:26 | Matches: ['08/10/25']\n",
      "Parsed dates: [datetime.datetime(2025, 8, 10, 0, 0)]\n"
     ]
    }
   ],
   "source": [
    "import datetime\n",
    "\n",
    "for s in sentences:\n",
    "    matches = re.findall(r'\\d{1,2}[-/]\\d{1,2}[-/]\\d{2,4}', s)\n",
    "    if matches:\n",
    "        print(f\"Found date(s) in sentence: {s} | Matches: {matches}\")\n",
    "        try:\n",
    "            dates = [datetime.datetime.strptime(date, '%m/%d/%y') for date in matches]\n",
    "            print(f\"Parsed dates: {dates}\")\n",
    "        except ValueError as e:\n",
    "            print(f\"Error parsing dates: {e}\")"
   ]
  }
 ],
 "metadata": {
  "kernelspec": {
   "display_name": "vpython3.13 (3.13.5)",
   "language": "python",
   "name": "python3"
  },
  "language_info": {
   "codemirror_mode": {
    "name": "ipython",
    "version": 3
   },
   "file_extension": ".py",
   "mimetype": "text/x-python",
   "name": "python",
   "nbconvert_exporter": "python",
   "pygments_lexer": "ipython3",
   "version": "3.13.5"
  }
 },
 "nbformat": 4,
 "nbformat_minor": 5
}
